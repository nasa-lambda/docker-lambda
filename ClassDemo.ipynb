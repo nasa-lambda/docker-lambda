{
 "cells": [
  {
   "cell_type": "markdown",
   "metadata": {},
   "source": [
    "This is a copy of the code in Class's Python wiki at https://github.com/lesgourg/class_public/wiki/Python-wrapper"
   ]
  },
  {
   "cell_type": "code",
   "execution_count": 1,
   "metadata": {
    "collapsed": true,
    "jupyter": {
     "outputs_hidden": true
    }
   },
   "outputs": [],
   "source": [
    "%matplotlib inline\n",
    "import numpy as np\n",
    "import matplotlib.pyplot as plt\n",
    "from classy import Class"
   ]
  },
  {
   "cell_type": "code",
   "execution_count": 2,
   "metadata": {
    "collapsed": false,
    "jupyter": {
     "outputs_hidden": false
    }
   },
   "outputs": [
    {
     "name": "stdout",
     "output_type": "stream",
     "text": [
      "{'pp': array([  0.00000000e+00,   0.00000000e+00,   9.59855233e-09, ...,\n",
      "         5.30793102e-22,   5.29036706e-22,   5.27286711e-22]), 'ell': array([   0,    1,    2, ..., 1998, 1999, 2000]), 'bb': array([  0.00000000e+00,   0.00000000e+00,   2.71574126e-19, ...,\n",
      "         1.00585903e-20,   1.00369386e-20,   1.00153492e-20]), 'ee': array([  0.00000000e+00,   0.00000000e+00,   7.90999980e-15, ...,\n",
      "         1.88034961e-18,   1.86769054e-18,   1.85502334e-18]), 'tt': array([  0.00000000e+00,   0.00000000e+00,   1.61157384e-10, ...,\n",
      "         4.89578624e-17,   4.89084328e-17,   4.88588893e-17]), 'tp': array([  0.00000000e+00,   0.00000000e+00,   5.20501127e-10, ...,\n",
      "         1.72573628e-22,   1.72365841e-22,   1.72148094e-22]), 'te': array([  0.00000000e+00,   0.00000000e+00,   5.24381240e-13, ...,\n",
      "        -3.78705478e-18,  -3.78169608e-18,  -3.77580522e-18])}\n"
     ]
    }
   ],
   "source": [
    "from classy import Class\n",
    "\n",
    "# Define your cosmology (what is not specified will be set to CLASS default parameters)\n",
    "params = {\n",
    "    'output': 'tCl pCl lCl',\n",
    "    'l_max_scalars': 2000,\n",
    "    'lensing': 'yes',\n",
    "    'A_s': 2.3e-9,\n",
    "    'n_s': 0.9624, \n",
    "    'h': 0.6711,\n",
    "    'omega_b': 0.022068,\n",
    "    'omega_cdm': 0.12029}\n",
    "\n",
    "# Create an instance of the CLASS wrapper\n",
    "cosmo = Class()\n",
    "\n",
    "# Set the parameters to the cosmological code\n",
    "cosmo.set(params)\n",
    "\n",
    "# Run the whole code. Depending on your output, it will call the\n",
    "# CLASS modules more or less fast. For instance, without any\n",
    "# output asked, CLASS will only compute background quantities,\n",
    "# thus running almost instantaneously.\n",
    "# This is equivalent to the beginning of the `main` routine of CLASS,\n",
    "# with all the struct_init() methods called.\n",
    "cosmo.compute()\n",
    "\n",
    "# Access the lensed cl until l=2000\n",
    "cls = cosmo.lensed_cl(2000)\n",
    "\n",
    "# Print on screen to see the output\n",
    "print(cls)\n",
    "# It is a dictionnary that contains the fields: tt, te, ee, bb, pp, tp\n",
    "\n",
    "# plot something with matplotlib...\n",
    "\n",
    "# Clean CLASS (the equivalent of the struct_free() in the `main`\n",
    "# of CLASS. This step is primordial when running in a loop over different\n",
    "# cosmologies, as you will saturate your memory very fast if you ommit\n",
    "# it.\n",
    "cosmo.struct_cleanup()\n",
    "\n",
    "# If you want to change completely the cosmology, you should also\n",
    "# clean the arguments, otherwise, if you are simply running on a loop\n",
    "# of different values for the same parameters, this step is not needed\n",
    "cosmo.empty()"
   ]
  },
  {
   "cell_type": "code",
   "execution_count": 3,
   "metadata": {
    "collapsed": false,
    "jupyter": {
     "outputs_hidden": false
    }
   },
   "outputs": [
    {
     "data": {
      "text/plain": [
       "<matplotlib.text.Text at 0x7fc7caeb5590>"
      ]
     },
     "execution_count": 3,
     "metadata": {},
     "output_type": "execute_result"
    },
    {
     "data": {
      "image/png": "[encoded data removed]",
      "text/plain": [
       "<matplotlib.figure.Figure at 0x7fc7cb420f90>"
      ]
     },
     "metadata": {},
     "output_type": "display_data"
    }
   ],
   "source": [
    "llp1 = cls['ell']*(cls['ell']+1.0) / (2*np.pi)\n",
    "plt.loglog(cls['ell'], llp1*cls['tt'])\n",
    "plt.loglog(cls['ell'], llp1*cls['ee'])\n",
    "plt.loglog(cls['ell'], llp1*cls['bb'])\n",
    "plt.xlabel(r'$\\ell$')\n",
    "plt.ylabel(r'$\\ell (\\ell+1) C_{\\ell} / 2\\pi$')"
   ]
  },
  {
   "cell_type": "code",
   "execution_count": null,
   "metadata": {
    "collapsed": true,
    "jupyter": {
     "outputs_hidden": true
    }
   },
   "outputs": [],
   "source": []
  }
 ],
 "metadata": {
  "kernelspec": {
   "display_name": "Python 3",
   "language": "python",
   "name": "python3"
  },
  "language_info": {
   "codemirror_mode": {
    "name": "ipython",
    "version": 3
   },
   "file_extension": ".py",
   "mimetype": "text/x-python",
   "name": "python",
   "nbconvert_exporter": "python",
   "pygments_lexer": "ipython3",
   "version": "3.11.6"
  }
 },
 "nbformat": 4,
 "nbformat_minor": 4
}
